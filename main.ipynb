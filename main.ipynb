{
 "cells": [
  {
   "cell_type": "code",
   "execution_count": null,
   "metadata": {},
   "outputs": [],
   "source": [
    "import tensorflow as tf\n",
    "from tensorflow import keras\n",
    "from keras import layers\n",
    "from keras.models import Sequential"
   ]
  },
  {
   "cell_type": "code",
   "execution_count": 2,
   "metadata": {},
   "outputs": [],
   "source": [
    "img_generator = tf.keras.preprocessing.image.ImageDataGenerator(rescale=1./255)"
   ]
  },
  {
   "cell_type": "code",
   "execution_count": null,
   "metadata": {},
   "outputs": [],
   "source": [
    "################### TRAINING IMAGES #########################\n",
    "face_train = img_generator.flow_from_directory('data/train_face',target_size=(512,512),shuffle=False,\n",
    "                                               seed=40,save_format='jpg', batch_size=16, classes=None,\n",
    "                                               class_mode=None)\n",
    "\n",
    "comic_train = img_generator.flow_from_directory('data/train_cartoon',target_size=(512,512),shuffle=False,\n",
    "                                                seed=40,save_format='jpg',batch_size=16, classes=None,\n",
    "                                                class_mode=None)"
   ]
  },
  {
   "cell_type": "code",
   "execution_count": null,
   "metadata": {},
   "outputs": [],
   "source": [
    "################## VALADITION IMAGES ########################\n",
    "face_val = img_generator.flow_from_directory('data/val_face',target_size=(512,512),shuffle=False,\n",
    "                                             seed=40,save_format='jpg',batch_size=16,classes=None,\n",
    "                                             class_mode=None)\n",
    "\n",
    "comic_val = img_generator.flow_from_directory('data/val_cartoon',target_size=(512,512),shuffle=False,\n",
    "                                              seed=40,save_format='jpg',batch_size=16,classes=None,\n",
    "                                              class_mode=None)"
   ]
  },
  {
   "cell_type": "code",
   "execution_count": 5,
   "metadata": {},
   "outputs": [],
   "source": [
    "############### TO FEED THE DATA IN model.fit ############\n",
    "train_generator=zip(face_train, comic_train)\n",
    "val_generator=zip(face_val, comic_val)"
   ]
  },
  {
   "cell_type": "code",
   "execution_count": null,
   "metadata": {},
   "outputs": [],
   "source": [
    "###################### AUTOENCODER MODEL ###############################\n",
    "model=Sequential(name=\"real2comic\")\n",
    "model.add(keras.Input(shape=(512,512,3)))\n",
    "model.add(layers.Conv2D(3,3,activation='relu', padding='same'))\n",
    "model.add(layers.Conv2D(32,3,activation='relu', padding='same'))\n",
    "model.add(layers.MaxPooling2D((2,2), padding='same'))\n",
    "model.add(layers.Conv2D(64,3,activation='relu', padding='same'))\n",
    "model.add(layers.Conv2D(64,3,activation='relu', padding='same'))\n",
    "model.add(layers.MaxPooling2D((2,2), padding='same'))\n",
    "model.add(layers.Conv2D(128,3,activation='relu', padding='same'))\n",
    "model.add(layers.Conv2D(128,3,activation='relu', padding='same'))\n",
    "model.add(layers.MaxPooling2D((2,2), padding='same'))\n",
    "\n",
    "model.add(layers.Conv2D(128,3,activation='relu', padding='same'))\n",
    "model.add(layers.Conv2DTranspose(128,3,activation='relu', padding='same'))\n",
    "\n",
    "\n",
    "model.add(layers.Conv2DTranspose(128,3,activation='relu',strides=2, padding='same'))\n",
    "model.add(layers.Conv2DTranspose(64,3,activation='relu',strides=2, padding='same'))\n",
    "model.add(layers.Conv2DTranspose(32,3,activation='relu',strides=2, padding='same'))\n",
    "model.add(layers.Conv2DTranspose(3,3,activation='sigmoid', padding='same'))\n",
    "\n",
    "model.compile(optimizer='adam', loss='mae', metrics=['accuracy'])\n",
    "\n",
    "model.summary()"
   ]
  },
  {
   "cell_type": "code",
   "execution_count": null,
   "metadata": {},
   "outputs": [],
   "source": [
    "######################### TRAINING THE MODEL ########################\n",
    "model.fit(x=train_generator, validation_data = val_generator,steps_per_epoch=530, validation_steps=94 ,epochs=25)"
   ]
  },
  {
   "cell_type": "code",
   "execution_count": null,
   "metadata": {},
   "outputs": [],
   "source": [
    "model.save('real2comic.h5')"
   ]
  }
 ],
 "metadata": {
  "kernelspec": {
   "display_name": "tf",
   "language": "python",
   "name": "python3"
  },
  "language_info": {
   "codemirror_mode": {
    "name": "ipython",
    "version": 3
   },
   "file_extension": ".py",
   "mimetype": "text/x-python",
   "name": "python",
   "nbconvert_exporter": "python",
   "pygments_lexer": "ipython3",
   "version": "3.10.14"
  }
 },
 "nbformat": 4,
 "nbformat_minor": 2
}
