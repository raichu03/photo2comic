{
 "cells": [
  {
   "cell_type": "code",
   "execution_count": 1,
   "id": "a690f36f",
   "metadata": {},
   "outputs": [],
   "source": [
    "################# ALL THE IMPROTS ###################\n",
    "import os\n",
    "import PIL\n",
    "from PIL import Image\n",
    "import numpy as np\n",
    "import tensorflow as tf\n",
    "from tensorflow import keras\n",
    "from keras import layers\n",
    "from keras.layers import Conv2D, MaxPooling2D, UpSampling2D\n",
    "from keras.models import Sequential\n",
    "\n",
    "from keras.layers.reshaping.reshape import Reshape"
   ]
  },
  {
   "cell_type": "code",
   "execution_count": 2,
   "id": "12903802",
   "metadata": {},
   "outputs": [],
   "source": [
    "################################################################################\n",
    "############################## IMAGE GENERATOR #################################\n",
    "############# TO LOAD THE TRAINING AND VALIDATION DATA IN BATCHES ##############\n",
    "\n",
    "img_generator = tf.keras.preprocessing.image.ImageDataGenerator(rescale=1./255)"
   ]
  },
  {
   "cell_type": "code",
   "execution_count": null,
   "id": "ff9733e2",
   "metadata": {},
   "outputs": [],
   "source": [
    "################################################################################\n",
    "########################### FLOW FROM DIRECTORY#################################\n",
    "\n",
    "\n",
    "################### TRAINING IMAGES #########################\n",
    "face_train = img_generator.flow_from_directory('data/train_images',target_size=(512,512),shuffle=False,\n",
    "                                               seed=40,save_format='jpg', batch_size=16, classes=None,\n",
    "                                               class_mode=None)\n",
    "\n",
    "comic_train = img_generator.flow_from_directory('data/train_cartoon',target_size=(512,512),shuffle=False,\n",
    "                                                seed=40,save_format='jpg',batch_size=16, classes=None,\n",
    "                                                class_mode=None)\n",
    "\n",
    "\n",
    "################## VALADITION IMAGES ########################\n",
    "face_val = img_generator.flow_from_directory('data/val_images',target_size=(512,512),shuffle=False,\n",
    "                                             seed=40,save_format='jpg',batch_size=4,classes=None,\n",
    "                                             class_mode=None)\n",
    "\n",
    "comic_val = img_generator.flow_from_directory('data/val_cartoon',target_size=(512,512),shuffle=False,\n",
    "                                              seed=40,save_format='jpg',batch_size=4,classes=None,\n",
    "                                              class_mode=None)"
   ]
  },
  {
   "cell_type": "code",
   "execution_count": 4,
   "id": "422d7736",
   "metadata": {},
   "outputs": [],
   "source": [
    "############### TO FEED THE DATA IN model.fit ############\n",
    "train_generator=zip(face_train, comic_train)\n",
    "val_generator=zip(face_val, comic_val)"
   ]
  },
  {
   "cell_type": "code",
   "execution_count": null,
   "id": "e69cd9f3",
   "metadata": {
    "scrolled": true
   },
   "outputs": [],
   "source": [
    "\n",
    "#########################################################################\n",
    "###################### MODEL STRUCTURE ###############################\n",
    "model=Sequential(name=\"real2comic\")\n",
    "model.add(keras.Input(shape=(512,512,3)))\n",
    "model.add(layers.Conv2D(3,3,activation='relu', padding='same'))\n",
    "model.add(layers.Conv2D(32,3,activation='relu',strides=2, padding='same'))\n",
    "model.add(layers.Conv2D(32,3,activation='relu',strides=2, padding='same'))\n",
    "model.add(layers.Conv2D(32,3,activation='relu',strides=2, padding='same'))\n",
    "\n",
    "model.add(layers.Conv2D(32,3,activation='relu',padding='same'))\n",
    "\n",
    "\n",
    "model.add(layers.Conv2DTranspose(32,3,activation='relu', padding='same'))\n",
    "model.add(layers.Conv2DTranspose(32,3,activation='relu', strides=2, padding='same'))\n",
    "model.add(layers.Conv2DTranspose(32,3,activation='relu', strides=2, padding='same'))\n",
    "model.add(layers.Conv2DTranspose(3,3, activation='sigmoid',strides=2, padding='same'))\n",
    "\n",
    "model.compile(optimizer='adam', loss='mae', metrics=['accuracy'])\n",
    "\n",
    "model.summary()\n",
    "\n",
    "#########################################################################\n"
   ]
  },
  {
   "cell_type": "code",
   "execution_count": null,
   "id": "78249cb6",
   "metadata": {
    "scrolled": false
   },
   "outputs": [],
   "source": [
    "######################### TRAINING THE MODEL ########################\n",
    "model.fit(x=train_generator, validation_data = val_generator, steps_per_epoch=500,\n",
    "          validation_steps=500, epochs=50)"
   ]
  },
  {
   "cell_type": "code",
   "execution_count": null,
   "id": "2927a0d2",
   "metadata": {},
   "outputs": [],
   "source": [
    "####################### SAVING THE MODEL ###########################\n",
    "model.save(\"modelV1.h5\")"
   ]
  }
 ],
 "metadata": {
  "kernelspec": {
   "display_name": "Python 3",
   "language": "python",
   "name": "python3"
  },
  "language_info": {
   "codemirror_mode": {
    "name": "ipython",
    "version": 3
   },
   "file_extension": ".py",
   "mimetype": "text/x-python",
   "name": "python",
   "nbconvert_exporter": "python",
   "pygments_lexer": "ipython3",
   "version": "3.10.6 (main, Nov 14 2022, 16:10:14) [GCC 11.3.0]"
  },
  "vscode": {
   "interpreter": {
    "hash": "916dbcbb3f70747c44a77c7bcd40155683ae19c65e1c03b4aa3499c5328201f1"
   }
  }
 },
 "nbformat": 4,
 "nbformat_minor": 5
}
